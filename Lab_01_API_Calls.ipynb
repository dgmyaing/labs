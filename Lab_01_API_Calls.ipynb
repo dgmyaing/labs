{
  "nbformat": 4,
  "nbformat_minor": 0,
  "metadata": {
    "colab": {
      "provenance": [],
      "authorship_tag": "ABX9TyMPhuR23oO9Uwh9CYdsKU5o",
      "include_colab_link": true
    },
    "kernelspec": {
      "name": "python3",
      "display_name": "Python 3"
    },
    "language_info": {
      "name": "python"
    }
  },
  "cells": [
    {
      "cell_type": "markdown",
      "metadata": {
        "id": "view-in-github",
        "colab_type": "text"
      },
      "source": [
        "<a href=\"https://colab.research.google.com/github/dgmyaing/labs/blob/main/Lab_01_API_Calls.ipynb\" target=\"_parent\"><img src=\"https://colab.research.google.com/assets/colab-badge.svg\" alt=\"Open In Colab\"/></a>"
      ]
    },
    {
      "cell_type": "code",
      "execution_count": null,
      "metadata": {
        "id": "VZoLpghwOUmU"
      },
      "outputs": [],
      "source": [
        "import pandas as pd\n",
        "import requests\n",
        "import streamlit as st\n",
        "\n",
        "\n",
        "# Conduct analysis:\n",
        "website = 'https://www.saferproducts.gov/RestWebServices/Recall'\n",
        "query = '?format=json&RecallTitle=Gas'\n",
        "header = {'User-Agent':\n",
        "          'Mozilla/5.0 (Windows NT 10.0; Win64; x64; rv:124.0) Gecko/20100101 Firefox/124.0'}\n",
        "raw = requests.get(website+query,headers=header)\n",
        "\n",
        "data = raw.json()\n",
        "df = pd.DataFrame.from_dict(data)\n",
        "temp = df['RemedyOptions']\n",
        "clean_values = []\n",
        "\n",
        "for i in range(len(temp)):\n",
        "    if len(temp[i])>0:\n",
        "        values = []\n",
        "        for j in range(len(temp[i])):\n",
        "            values.append(temp[i][j]['Option'] )\n",
        "        clean_values.append(values)\n",
        "    else:\n",
        "        clean_values.append('')\n",
        "df['remedy'] = clean_values\n",
        "remedy_counts = df['remedy'].value_counts()\n",
        "\n",
        "\n",
        "# Create streamlit output:\n",
        "st.title('Remedy Statistics')\n",
        "st.write(remedy_counts)\n",
        "streamlit run remedy.py"
      ]
    }
  ]
}